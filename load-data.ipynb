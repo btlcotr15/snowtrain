{
 "cells": [
  {
   "cell_type": "code",
   "execution_count": 1,
   "metadata": {},
   "outputs": [],
   "source": [
    "\n",
    "#\n",
    "# The environment\n",
    "#\n",
    "\n",
    "import requests\n",
    "import urllib3\n",
    "\n",
    "# where data is located\n",
    "datadir = '../snowdata/'\n",
    "\n",
    "# environment variables\n",
    "# anything of interest in this file should be of the format\n",
    "#     export A=B\n",
    "envfile = '.setenv.sh'\n",
    "\n",
    "urllib3.disable_warnings(urllib3.exceptions.InsecureRequestWarning)\n",
    "\n",
    "headers = {\"Content-Type\":\"application/json\",\"Accept\":\"application/json\"}\n",
    "\n"
   ]
  },
  {
   "cell_type": "code",
   "execution_count": 2,
   "metadata": {},
   "outputs": [],
   "source": [
    "#\n",
    "# Find environment variables\n",
    "#\n",
    "envvars = {}\n",
    "with open( envfile) as env:\n",
    "    for line in env:\n",
    "        parts = line.split()\n",
    "        if len(parts) >= 2 and not parts[0].startswith('#'):\n",
    "            name = parts[1].split('=')[0]\n",
    "            valParts = parts[len(parts)-1].split('=')\n",
    "            value = valParts[len(valParts)-1]\n",
    "            envvars[name]= value.strip('\"\"')\n",
    "                \n",
    "user = envvars['SN_USER']\n",
    "passw = envvars['SN_PASS']\n",
    "urlbase = envvars['SN_URL']\n",
    "proxy = envvars['SN_PROXY']\n",
    "proxies = { 'https' : proxy, 'http' : proxy }"
   ]
  },
  {
   "cell_type": "code",
   "execution_count": 3,
   "metadata": {
    "scrolled": false
   },
   "outputs": [
    {
     "name": "stdout",
     "output_type": "stream",
     "text": [
      "INC0000060\n"
     ]
    }
   ],
   "source": [
    "#\n",
    "#Test get\n",
    "#\n",
    "\n",
    "url = urlbase + '/api/now/table/incident?sysparm_limit=1'\n",
    "response = requests.get(url, auth=(user, passw), headers=headers, proxies = proxies, verify = False )\n",
    "\n",
    "if response.status_code != 200: \n",
    "    print('Status:', response.status_code, 'Headers:', response.headers, 'Error Response:', response.json())\n",
    "else:\n",
    "    test_data = response.json()\n",
    "    print(test_data['result'][0]['number'])\n"
   ]
  },
  {
   "cell_type": "code",
   "execution_count": 4,
   "metadata": {},
   "outputs": [
    {
     "name": "stdout",
     "output_type": "stream",
     "text": [
      "INC0010018\n"
     ]
    }
   ],
   "source": [
    "#\n",
    "#Test post\n",
    "#\n",
    "\n",
    "import datetime\n",
    "\n",
    "now = datetime.datetime.now().strftime(\"%Y-%m-%d-%H-%M-%S\")\n",
    "\n",
    "url = urlbase + '/api/now/table/incident'\n",
    "post_data = { \"short_description\" : \"test-posting \" + now }\n",
    "response = requests.post(url, auth=(user, passw), headers=headers, proxies = proxies, verify = False, json = post_data )\n",
    "\n",
    "if response.status_code != 201: \n",
    "    print('Status:', response.status_code, 'Headers:', response.headers, 'Error Response:', response.json())\n",
    "else:\n",
    "    post_test_data = response.json()\n",
    "    print(post_test_data['result']['number'])\n"
   ]
  },
  {
   "cell_type": "code",
   "execution_count": 7,
   "metadata": {},
   "outputs": [
    {
     "name": "stdout",
     "output_type": "stream",
     "text": [
      "testrouter-2020-10-01-12-40-48\n"
     ]
    }
   ],
   "source": [
    "#\n",
    "# Add IP router\n",
    "#\n",
    "\n",
    "import datetime\n",
    "\n",
    "now = datetime.datetime.now().strftime(\"%Y-%m-%d-%H-%M-%S\")\n",
    "name = \"testrouter-\"+now\n",
    "\n",
    "url = urlbase + '/api/now/cmdb/instance/cmdb_ci_ip_router'\n",
    "post_data = { \"source\": \"ServiceNow\", \"attributes\": { \"name\": name } } \n",
    "\n",
    "response = requests.post(url, auth=(user, passw), headers=headers, proxies = proxies, verify = False, json = post_data )\n",
    "\n",
    "if response.status_code != 201: \n",
    "    print('Status:', response.status_code, 'Headers:', response.headers, 'Error Response:', response.json())\n",
    "else:\n",
    "    response_json = response.json()\n",
    "    print(response_json['result']['attributes']['name'])\n",
    "    \n"
   ]
  },
  {
   "cell_type": "code",
   "execution_count": 11,
   "metadata": {},
   "outputs": [
    {
     "name": "stdout",
     "output_type": "stream",
     "text": [
      "7df52e9e07a31010e3c2f7d08c1ed09a = testrouter-2020-10-01-12-40-48\n"
     ]
    }
   ],
   "source": [
    "#\n",
    "# get router\n",
    "#\n",
    "\n",
    "name = 'testrouter-2020-10-01-12-40-48'\n",
    "url = urlbase + '/api/now/cmdb/instance/cmdb_ci_ip_router?sysparm_query=name%3D'+name\n",
    "response = requests.get(url, auth=(user, passw), headers=headers, proxies = proxies, verify = False )\n",
    "\n",
    "if response.status_code != 200: \n",
    "    print('Status:', response.status_code, 'Headers:', response.headers, 'Error Response:', response.json())\n",
    "else:\n",
    "    test_data = response.json()\n",
    "    result = test_data['result'][0]\n",
    "    print(result['sys_id'], '=', result['name'])\n",
    "    "
   ]
  },
  {
   "cell_type": "code",
   "execution_count": 21,
   "metadata": {},
   "outputs": [
    {
     "name": "stdout",
     "output_type": "stream",
     "text": [
      "25ab9c4d0a0a0bb300f7dabdc0ca7c1c = 100 South Charles Street, Baltimore,MD\n"
     ]
    }
   ],
   "source": [
    "#\n",
    "# get location\n",
    "#\n",
    "\n",
    "name = '100 South Charles Street, Baltimore,MD'\n",
    "url = urlbase + '/api/now/table/cmn_location?sysparm_query=name%3D'+name\n",
    "response = requests.get(url, auth=(user, passw), headers=headers, proxies = proxies, verify = False )\n",
    "\n",
    "if response.status_code != 200: \n",
    "    print('Status:', response.status_code, 'Headers:', response.headers, 'Error Response:', response.json())\n",
    "else:\n",
    "    test_data = response.json()\n",
    "    result = test_data['result'][0]\n",
    "    print(result['sys_id'], '=', result['name'])\n",
    "    "
   ]
  },
  {
   "cell_type": "code",
   "execution_count": null,
   "metadata": {},
   "outputs": [],
   "source": []
  },
  {
   "cell_type": "code",
   "execution_count": 48,
   "metadata": {},
   "outputs": [],
   "source": [
    "#\n",
    "# Finds mapping for a given data file\n",
    "#\n",
    "from pathlib import Path\n",
    "\n",
    "def find_mapping ( datafile ):\n",
    "    mapfile = datadir + Path(datafile).stem.strip('.') + '.map'\n",
    "    mapping = {}\n",
    "    with open(mapfile) as mf:\n",
    "        for line in mf:\n",
    "            parts = line.split()\n",
    "            if ( len(parts) == 2 ):\n",
    "                mapping[parts[0]] = parts[1]\n",
    "    return mapping\n",
    "        "
   ]
  },
  {
   "cell_type": "code",
   "execution_count": 69,
   "metadata": {},
   "outputs": [
    {
     "name": "stdout",
     "output_type": "stream",
     "text": [
      "39e958ea07271010e3c2f7d08c1ed04a\n",
      "8ae9946207671010e3c2f7d08c1ed017\n"
     ]
    }
   ],
   "source": [
    "#\n",
    "# Load the IP Complex data\n",
    "#\n",
    "\n",
    "import pandas as pa\n",
    "\n",
    "datafile = 'ip_complex.dsv'\n",
    "file = datadir + datafile\n",
    "\n",
    "df = pa.read_csv(file, sep='|')\n",
    "mapping = find_mapping(datafile)\n",
    "\n",
    "url = urlbase + '/api/now/table/cmn_location'\n",
    "\n",
    "for index, row in df.iterrows():\n",
    "    attributes = {}\n",
    "    for f in mapping:\n",
    "        name = mapping[f]\n",
    "        value =  row[f]\n",
    "        attributes[name] = value\n",
    "\n",
    "    post_data = attributes\n",
    "    post_data['source'] = 'ServiceNow'\n",
    "    #print(post_data)\n",
    "    response = requests.post(url, auth=(user, passw), headers=headers, proxies = proxies, verify = False, json = post_data )\n",
    "    if response.status_code != 201: \n",
    "        print('Status:', response.status_code, 'Headers:', response.headers, 'Error Response:', response.json())\n",
    "    else:\n",
    "        response_json = response.json()\n",
    "        #print(response_json)\n",
    "        print(response_json['result']['sys_id'])\n",
    "\n"
   ]
  }
 ],
 "metadata": {
  "kernelspec": {
   "display_name": "Python 3",
   "language": "python",
   "name": "python3"
  },
  "language_info": {
   "codemirror_mode": {
    "name": "ipython",
    "version": 3
   },
   "file_extension": ".py",
   "mimetype": "text/x-python",
   "name": "python",
   "nbconvert_exporter": "python",
   "pygments_lexer": "ipython3",
   "version": "3.7.6"
  },
  "varInspector": {
   "cols": {
    "lenName": 16,
    "lenType": 16,
    "lenVar": 40
   },
   "kernels_config": {
    "python": {
     "delete_cmd_postfix": "",
     "delete_cmd_prefix": "del ",
     "library": "var_list.py",
     "varRefreshCmd": "print(var_dic_list())"
    },
    "r": {
     "delete_cmd_postfix": ") ",
     "delete_cmd_prefix": "rm(",
     "library": "var_list.r",
     "varRefreshCmd": "cat(var_dic_list()) "
    }
   },
   "types_to_exclude": [
    "module",
    "function",
    "builtin_function_or_method",
    "instance",
    "_Feature"
   ],
   "window_display": false
  }
 },
 "nbformat": 4,
 "nbformat_minor": 4
}
